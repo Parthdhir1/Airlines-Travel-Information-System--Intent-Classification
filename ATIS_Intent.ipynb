{
  "nbformat": 4,
  "nbformat_minor": 0,
  "metadata": {
    "colab": {
      "name": "ATIS_Intent.ipynb",
      "provenance": [],
      "collapsed_sections": [],
      "machine_shape": "hm"
    },
    "kernelspec": {
      "name": "python3",
      "display_name": "Python 3"
    },
    "accelerator": "GPU"
  },
  "cells": [
    {
      "cell_type": "code",
      "metadata": {
        "id": "BH4YYPEvBbsh",
        "colab_type": "code",
        "colab": {}
      },
      "source": [
        "import pandas as pd\n",
        "import numpy as np\n"
      ],
      "execution_count": 0,
      "outputs": []
    },
    {
      "cell_type": "code",
      "metadata": {
        "id": "E2x1yq_8EdYd",
        "colab_type": "code",
        "colab": {}
      },
      "source": [
        "df_train= pd.read_csv('/content/drive/My Drive/Projects/atis-airlinetravelinformationsystem/atis_intents.csv',names=['target','text'])\n",
        "df_test= pd.read_csv('/content/drive/My Drive/Projects/atis-airlinetravelinformationsystem/atis_intents_test.csv',names=['target','text'])"
      ],
      "execution_count": 0,
      "outputs": []
    },
    {
      "cell_type": "code",
      "metadata": {
        "id": "slruB8NiFEud",
        "colab_type": "code",
        "outputId": "96ccc1db-d599-4d92-ecd5-8620d5a2c705",
        "colab": {
          "base_uri": "https://localhost:8080/",
          "height": 200
        }
      },
      "source": [
        "df_train.head()"
      ],
      "execution_count": 77,
      "outputs": [
        {
          "output_type": "execute_result",
          "data": {
            "text/html": [
              "<div>\n",
              "<style scoped>\n",
              "    .dataframe tbody tr th:only-of-type {\n",
              "        vertical-align: middle;\n",
              "    }\n",
              "\n",
              "    .dataframe tbody tr th {\n",
              "        vertical-align: top;\n",
              "    }\n",
              "\n",
              "    .dataframe thead th {\n",
              "        text-align: right;\n",
              "    }\n",
              "</style>\n",
              "<table border=\"1\" class=\"dataframe\">\n",
              "  <thead>\n",
              "    <tr style=\"text-align: right;\">\n",
              "      <th></th>\n",
              "      <th>target</th>\n",
              "      <th>text</th>\n",
              "    </tr>\n",
              "  </thead>\n",
              "  <tbody>\n",
              "    <tr>\n",
              "      <th>0</th>\n",
              "      <td>atis_flight</td>\n",
              "      <td>i want to fly from boston at 838 am and arriv...</td>\n",
              "    </tr>\n",
              "    <tr>\n",
              "      <th>1</th>\n",
              "      <td>atis_flight</td>\n",
              "      <td>what flights are available from pittsburgh to...</td>\n",
              "    </tr>\n",
              "    <tr>\n",
              "      <th>2</th>\n",
              "      <td>atis_flight_time</td>\n",
              "      <td>what is the arrival time in san francisco for...</td>\n",
              "    </tr>\n",
              "    <tr>\n",
              "      <th>3</th>\n",
              "      <td>atis_airfare</td>\n",
              "      <td>cheapest airfare from tacoma to orlando</td>\n",
              "    </tr>\n",
              "    <tr>\n",
              "      <th>4</th>\n",
              "      <td>atis_airfare</td>\n",
              "      <td>round trip fares from pittsburgh to philadelp...</td>\n",
              "    </tr>\n",
              "  </tbody>\n",
              "</table>\n",
              "</div>"
            ],
            "text/plain": [
              "             target                                               text\n",
              "0       atis_flight   i want to fly from boston at 838 am and arriv...\n",
              "1       atis_flight   what flights are available from pittsburgh to...\n",
              "2  atis_flight_time   what is the arrival time in san francisco for...\n",
              "3      atis_airfare            cheapest airfare from tacoma to orlando\n",
              "4      atis_airfare   round trip fares from pittsburgh to philadelp..."
            ]
          },
          "metadata": {
            "tags": []
          },
          "execution_count": 77
        }
      ]
    },
    {
      "cell_type": "code",
      "metadata": {
        "id": "-yor9K7kFG_f",
        "colab_type": "code",
        "outputId": "dfdb0484-d45b-40e9-c339-a0a5d08edf72",
        "colab": {
          "base_uri": "https://localhost:8080/",
          "height": 748
        }
      },
      "source": [
        "df_train.groupby('target').count()"
      ],
      "execution_count": 78,
      "outputs": [
        {
          "output_type": "execute_result",
          "data": {
            "text/html": [
              "<div>\n",
              "<style scoped>\n",
              "    .dataframe tbody tr th:only-of-type {\n",
              "        vertical-align: middle;\n",
              "    }\n",
              "\n",
              "    .dataframe tbody tr th {\n",
              "        vertical-align: top;\n",
              "    }\n",
              "\n",
              "    .dataframe thead th {\n",
              "        text-align: right;\n",
              "    }\n",
              "</style>\n",
              "<table border=\"1\" class=\"dataframe\">\n",
              "  <thead>\n",
              "    <tr style=\"text-align: right;\">\n",
              "      <th></th>\n",
              "      <th>text</th>\n",
              "    </tr>\n",
              "    <tr>\n",
              "      <th>target</th>\n",
              "      <th></th>\n",
              "    </tr>\n",
              "  </thead>\n",
              "  <tbody>\n",
              "    <tr>\n",
              "      <th>atis_abbreviation</th>\n",
              "      <td>147</td>\n",
              "    </tr>\n",
              "    <tr>\n",
              "      <th>atis_aircraft</th>\n",
              "      <td>81</td>\n",
              "    </tr>\n",
              "    <tr>\n",
              "      <th>atis_aircraft#atis_flight#atis_flight_no</th>\n",
              "      <td>1</td>\n",
              "    </tr>\n",
              "    <tr>\n",
              "      <th>atis_airfare</th>\n",
              "      <td>423</td>\n",
              "    </tr>\n",
              "    <tr>\n",
              "      <th>atis_airfare#atis_flight_time</th>\n",
              "      <td>1</td>\n",
              "    </tr>\n",
              "    <tr>\n",
              "      <th>atis_airline</th>\n",
              "      <td>157</td>\n",
              "    </tr>\n",
              "    <tr>\n",
              "      <th>atis_airline#atis_flight_no</th>\n",
              "      <td>2</td>\n",
              "    </tr>\n",
              "    <tr>\n",
              "      <th>atis_airport</th>\n",
              "      <td>20</td>\n",
              "    </tr>\n",
              "    <tr>\n",
              "      <th>atis_capacity</th>\n",
              "      <td>16</td>\n",
              "    </tr>\n",
              "    <tr>\n",
              "      <th>atis_cheapest</th>\n",
              "      <td>1</td>\n",
              "    </tr>\n",
              "    <tr>\n",
              "      <th>atis_city</th>\n",
              "      <td>19</td>\n",
              "    </tr>\n",
              "    <tr>\n",
              "      <th>atis_distance</th>\n",
              "      <td>20</td>\n",
              "    </tr>\n",
              "    <tr>\n",
              "      <th>atis_flight</th>\n",
              "      <td>3666</td>\n",
              "    </tr>\n",
              "    <tr>\n",
              "      <th>atis_flight#atis_airfare</th>\n",
              "      <td>21</td>\n",
              "    </tr>\n",
              "    <tr>\n",
              "      <th>atis_flight_no</th>\n",
              "      <td>12</td>\n",
              "    </tr>\n",
              "    <tr>\n",
              "      <th>atis_flight_time</th>\n",
              "      <td>54</td>\n",
              "    </tr>\n",
              "    <tr>\n",
              "      <th>atis_ground_fare</th>\n",
              "      <td>18</td>\n",
              "    </tr>\n",
              "    <tr>\n",
              "      <th>atis_ground_service</th>\n",
              "      <td>255</td>\n",
              "    </tr>\n",
              "    <tr>\n",
              "      <th>atis_ground_service#atis_ground_fare</th>\n",
              "      <td>1</td>\n",
              "    </tr>\n",
              "    <tr>\n",
              "      <th>atis_meal</th>\n",
              "      <td>6</td>\n",
              "    </tr>\n",
              "    <tr>\n",
              "      <th>atis_quantity</th>\n",
              "      <td>51</td>\n",
              "    </tr>\n",
              "    <tr>\n",
              "      <th>atis_restriction</th>\n",
              "      <td>6</td>\n",
              "    </tr>\n",
              "  </tbody>\n",
              "</table>\n",
              "</div>"
            ],
            "text/plain": [
              "                                          text\n",
              "target                                        \n",
              "atis_abbreviation                          147\n",
              "atis_aircraft                               81\n",
              "atis_aircraft#atis_flight#atis_flight_no     1\n",
              "atis_airfare                               423\n",
              "atis_airfare#atis_flight_time                1\n",
              "atis_airline                               157\n",
              "atis_airline#atis_flight_no                  2\n",
              "atis_airport                                20\n",
              "atis_capacity                               16\n",
              "atis_cheapest                                1\n",
              "atis_city                                   19\n",
              "atis_distance                               20\n",
              "atis_flight                               3666\n",
              "atis_flight#atis_airfare                    21\n",
              "atis_flight_no                              12\n",
              "atis_flight_time                            54\n",
              "atis_ground_fare                            18\n",
              "atis_ground_service                        255\n",
              "atis_ground_service#atis_ground_fare         1\n",
              "atis_meal                                    6\n",
              "atis_quantity                               51\n",
              "atis_restriction                             6"
            ]
          },
          "metadata": {
            "tags": []
          },
          "execution_count": 78
        }
      ]
    },
    {
      "cell_type": "code",
      "metadata": {
        "id": "H0ysq4HmNnSw",
        "colab_type": "code",
        "colab": {}
      },
      "source": [
        "train_data= df_train.append(df_train.loc[df_train.target.isin([\"atis_flight_time\", \"atis_quantity\",\"atis_flight\",\"atis_cheapest\"]), :])\n",
        "test_data= df_test.append(df_test.loc[df_test.target.isin([\"atis_flight_time\", \"atis_quantity\",\"atis_flight\",\"atis_cheapest\"]), :])"
      ],
      "execution_count": 0,
      "outputs": []
    },
    {
      "cell_type": "code",
      "metadata": {
        "id": "Ke56DPFxObtu",
        "colab_type": "code",
        "outputId": "b7a52f2e-6363-4276-b723-aa9305e52006",
        "colab": {
          "base_uri": "https://localhost:8080/",
          "height": 200
        }
      },
      "source": [
        "train_data.head()"
      ],
      "execution_count": 80,
      "outputs": [
        {
          "output_type": "execute_result",
          "data": {
            "text/html": [
              "<div>\n",
              "<style scoped>\n",
              "    .dataframe tbody tr th:only-of-type {\n",
              "        vertical-align: middle;\n",
              "    }\n",
              "\n",
              "    .dataframe tbody tr th {\n",
              "        vertical-align: top;\n",
              "    }\n",
              "\n",
              "    .dataframe thead th {\n",
              "        text-align: right;\n",
              "    }\n",
              "</style>\n",
              "<table border=\"1\" class=\"dataframe\">\n",
              "  <thead>\n",
              "    <tr style=\"text-align: right;\">\n",
              "      <th></th>\n",
              "      <th>target</th>\n",
              "      <th>text</th>\n",
              "    </tr>\n",
              "  </thead>\n",
              "  <tbody>\n",
              "    <tr>\n",
              "      <th>0</th>\n",
              "      <td>atis_flight</td>\n",
              "      <td>i want to fly from boston at 838 am and arriv...</td>\n",
              "    </tr>\n",
              "    <tr>\n",
              "      <th>1</th>\n",
              "      <td>atis_flight</td>\n",
              "      <td>what flights are available from pittsburgh to...</td>\n",
              "    </tr>\n",
              "    <tr>\n",
              "      <th>2</th>\n",
              "      <td>atis_flight_time</td>\n",
              "      <td>what is the arrival time in san francisco for...</td>\n",
              "    </tr>\n",
              "    <tr>\n",
              "      <th>3</th>\n",
              "      <td>atis_airfare</td>\n",
              "      <td>cheapest airfare from tacoma to orlando</td>\n",
              "    </tr>\n",
              "    <tr>\n",
              "      <th>4</th>\n",
              "      <td>atis_airfare</td>\n",
              "      <td>round trip fares from pittsburgh to philadelp...</td>\n",
              "    </tr>\n",
              "  </tbody>\n",
              "</table>\n",
              "</div>"
            ],
            "text/plain": [
              "             target                                               text\n",
              "0       atis_flight   i want to fly from boston at 838 am and arriv...\n",
              "1       atis_flight   what flights are available from pittsburgh to...\n",
              "2  atis_flight_time   what is the arrival time in san francisco for...\n",
              "3      atis_airfare            cheapest airfare from tacoma to orlando\n",
              "4      atis_airfare   round trip fares from pittsburgh to philadelp..."
            ]
          },
          "metadata": {
            "tags": []
          },
          "execution_count": 80
        }
      ]
    },
    {
      "cell_type": "code",
      "metadata": {
        "id": "VcrzbbIWSmXh",
        "colab_type": "code",
        "colab": {}
      },
      "source": [
        "from sklearn.preprocessing import OneHotEncoder as OHE\n",
        "\n",
        "y_encoder= OHE().fit(np.array(train_data.target).reshape(-1,1))\n",
        "ytr_encoded= y_encoder.transform(np.array(train_data.target).reshape(-1,1)).toarray()\n",
        "yts_encoded= y_encoder.transform(np.array(test_data.target).reshape(-1,1)).toarray()"
      ],
      "execution_count": 0,
      "outputs": []
    },
    {
      "cell_type": "code",
      "metadata": {
        "id": "2cutjbpWSqld",
        "colab_type": "code",
        "colab": {}
      },
      "source": [
        ""
      ],
      "execution_count": 0,
      "outputs": []
    },
    {
      "cell_type": "code",
      "metadata": {
        "id": "Gs2k1zkCTupR",
        "colab_type": "code",
        "outputId": "efe902eb-4df8-4db5-bd18-bc0b3a352884",
        "colab": {
          "base_uri": "https://localhost:8080/",
          "height": 68
        }
      },
      "source": [
        "import nltk\n",
        "nltk.download('punkt')"
      ],
      "execution_count": 82,
      "outputs": [
        {
          "output_type": "stream",
          "text": [
            "[nltk_data] Downloading package punkt to /root/nltk_data...\n",
            "[nltk_data]   Package punkt is already up-to-date!\n"
          ],
          "name": "stdout"
        },
        {
          "output_type": "execute_result",
          "data": {
            "text/plain": [
              "True"
            ]
          },
          "metadata": {
            "tags": []
          },
          "execution_count": 82
        }
      ]
    },
    {
      "cell_type": "code",
      "metadata": {
        "id": "WT4L-8b4UE44",
        "colab_type": "code",
        "colab": {}
      },
      "source": [
        "train_data[\"lower_text\"]= train_data.text.map(lambda x: x.lower())\n",
        "test_data[\"lower_text\"]= test_data.text.map(lambda x: x.lower())"
      ],
      "execution_count": 0,
      "outputs": []
    },
    {
      "cell_type": "code",
      "metadata": {
        "id": "0aj0YLE0UKw8",
        "colab_type": "code",
        "colab": {}
      },
      "source": [
        "from nltk import word_tokenize\n",
        "\n",
        "train_data[\"tokenized\"]= train_data.lower_text.map(word_tokenize)\n",
        "test_data[\"tokenized\"]= test_data.lower_text.map(word_tokenize)"
      ],
      "execution_count": 0,
      "outputs": []
    },
    {
      "cell_type": "code",
      "metadata": {
        "id": "NuLgrcOJUSZS",
        "colab_type": "code",
        "outputId": "7773efa8-dd8d-4db7-aeac-243bfdda0d83",
        "colab": {
          "base_uri": "https://localhost:8080/",
          "height": 200
        }
      },
      "source": [
        "train_data.head()"
      ],
      "execution_count": 85,
      "outputs": [
        {
          "output_type": "execute_result",
          "data": {
            "text/html": [
              "<div>\n",
              "<style scoped>\n",
              "    .dataframe tbody tr th:only-of-type {\n",
              "        vertical-align: middle;\n",
              "    }\n",
              "\n",
              "    .dataframe tbody tr th {\n",
              "        vertical-align: top;\n",
              "    }\n",
              "\n",
              "    .dataframe thead th {\n",
              "        text-align: right;\n",
              "    }\n",
              "</style>\n",
              "<table border=\"1\" class=\"dataframe\">\n",
              "  <thead>\n",
              "    <tr style=\"text-align: right;\">\n",
              "      <th></th>\n",
              "      <th>target</th>\n",
              "      <th>text</th>\n",
              "      <th>lower_text</th>\n",
              "      <th>tokenized</th>\n",
              "    </tr>\n",
              "  </thead>\n",
              "  <tbody>\n",
              "    <tr>\n",
              "      <th>0</th>\n",
              "      <td>atis_flight</td>\n",
              "      <td>i want to fly from boston at 838 am and arriv...</td>\n",
              "      <td>i want to fly from boston at 838 am and arriv...</td>\n",
              "      <td>[i, want, to, fly, from, boston, at, 838, am, ...</td>\n",
              "    </tr>\n",
              "    <tr>\n",
              "      <th>1</th>\n",
              "      <td>atis_flight</td>\n",
              "      <td>what flights are available from pittsburgh to...</td>\n",
              "      <td>what flights are available from pittsburgh to...</td>\n",
              "      <td>[what, flights, are, available, from, pittsbur...</td>\n",
              "    </tr>\n",
              "    <tr>\n",
              "      <th>2</th>\n",
              "      <td>atis_flight_time</td>\n",
              "      <td>what is the arrival time in san francisco for...</td>\n",
              "      <td>what is the arrival time in san francisco for...</td>\n",
              "      <td>[what, is, the, arrival, time, in, san, franci...</td>\n",
              "    </tr>\n",
              "    <tr>\n",
              "      <th>3</th>\n",
              "      <td>atis_airfare</td>\n",
              "      <td>cheapest airfare from tacoma to orlando</td>\n",
              "      <td>cheapest airfare from tacoma to orlando</td>\n",
              "      <td>[cheapest, airfare, from, tacoma, to, orlando]</td>\n",
              "    </tr>\n",
              "    <tr>\n",
              "      <th>4</th>\n",
              "      <td>atis_airfare</td>\n",
              "      <td>round trip fares from pittsburgh to philadelp...</td>\n",
              "      <td>round trip fares from pittsburgh to philadelp...</td>\n",
              "      <td>[round, trip, fares, from, pittsburgh, to, phi...</td>\n",
              "    </tr>\n",
              "  </tbody>\n",
              "</table>\n",
              "</div>"
            ],
            "text/plain": [
              "             target  ...                                          tokenized\n",
              "0       atis_flight  ...  [i, want, to, fly, from, boston, at, 838, am, ...\n",
              "1       atis_flight  ...  [what, flights, are, available, from, pittsbur...\n",
              "2  atis_flight_time  ...  [what, is, the, arrival, time, in, san, franci...\n",
              "3      atis_airfare  ...     [cheapest, airfare, from, tacoma, to, orlando]\n",
              "4      atis_airfare  ...  [round, trip, fares, from, pittsburgh, to, phi...\n",
              "\n",
              "[5 rows x 4 columns]"
            ]
          },
          "metadata": {
            "tags": []
          },
          "execution_count": 85
        }
      ]
    },
    {
      "cell_type": "code",
      "metadata": {
        "id": "0Q2o46VhUbz5",
        "colab_type": "code",
        "outputId": "fef996ef-fb59-4395-d353-0fe2cd1f81c2",
        "colab": {
          "base_uri": "https://localhost:8080/",
          "height": 51
        }
      },
      "source": [
        "from nltk.corpus import stopwords\n",
        "from string import punctuation\n",
        "nltk.download('stopwords')\n",
        "\n",
        "def remove_stop(strings, stop_list):\n",
        "    classed= [s for s in strings if s not in stop_list]\n",
        "    return classed\n",
        "\n",
        "stop= stopwords.words(\"english\")\n",
        "stop_punc= list(set(punctuation))+ stop\n",
        "\n",
        "train_data[\"selected\"]= train_data.tokenized.map(lambda df: remove_stop(df, stop_punc))\n",
        "test_data[\"selected\"]= test_data.tokenized.map(lambda df: remove_stop(df, stop_punc))"
      ],
      "execution_count": 86,
      "outputs": [
        {
          "output_type": "stream",
          "text": [
            "[nltk_data] Downloading package stopwords to /root/nltk_data...\n",
            "[nltk_data]   Package stopwords is already up-to-date!\n"
          ],
          "name": "stdout"
        }
      ]
    },
    {
      "cell_type": "code",
      "metadata": {
        "id": "-y7FYQ9hUxr9",
        "colab_type": "code",
        "colab": {}
      },
      "source": [
        ""
      ],
      "execution_count": 0,
      "outputs": []
    },
    {
      "cell_type": "code",
      "metadata": {
        "id": "VWCS1VndU4go",
        "colab_type": "code",
        "colab": {}
      },
      "source": [
        "from nltk.stem import SnowballStemmer\n",
        "\n",
        "def normalize(text):\n",
        "    return \" \".join(text)\n",
        "\n",
        "stemmer= SnowballStemmer('english')\n",
        "\n",
        "train_data[\"stemmed\"]= train_data.selected.map(lambda xs: [stemmer.stem(x) for x in xs])\n",
        "train_data[\"normalized\"]= train_data.stemmed.apply(normalize)\n",
        "\n",
        "test_data[\"stemmed\"]= test_data.selected.map(lambda xs: [stemmer.stem(x) for x in xs])\n",
        "test_data[\"normalized\"]= test_data.stemmed.apply(normalize)"
      ],
      "execution_count": 0,
      "outputs": []
    },
    {
      "cell_type": "code",
      "metadata": {
        "id": "CAYqrjYPVJHk",
        "colab_type": "code",
        "colab": {
          "base_uri": "https://localhost:8080/",
          "height": 320
        },
        "outputId": "1c7adbd0-c1de-42d3-be36-078f5a884b27"
      },
      "source": [
        "train_data.head()"
      ],
      "execution_count": 88,
      "outputs": [
        {
          "output_type": "execute_result",
          "data": {
            "text/html": [
              "<div>\n",
              "<style scoped>\n",
              "    .dataframe tbody tr th:only-of-type {\n",
              "        vertical-align: middle;\n",
              "    }\n",
              "\n",
              "    .dataframe tbody tr th {\n",
              "        vertical-align: top;\n",
              "    }\n",
              "\n",
              "    .dataframe thead th {\n",
              "        text-align: right;\n",
              "    }\n",
              "</style>\n",
              "<table border=\"1\" class=\"dataframe\">\n",
              "  <thead>\n",
              "    <tr style=\"text-align: right;\">\n",
              "      <th></th>\n",
              "      <th>target</th>\n",
              "      <th>text</th>\n",
              "      <th>lower_text</th>\n",
              "      <th>tokenized</th>\n",
              "      <th>selected</th>\n",
              "      <th>stemmed</th>\n",
              "      <th>normalized</th>\n",
              "    </tr>\n",
              "  </thead>\n",
              "  <tbody>\n",
              "    <tr>\n",
              "      <th>0</th>\n",
              "      <td>atis_flight</td>\n",
              "      <td>i want to fly from boston at 838 am and arriv...</td>\n",
              "      <td>i want to fly from boston at 838 am and arriv...</td>\n",
              "      <td>[i, want, to, fly, from, boston, at, 838, am, ...</td>\n",
              "      <td>[want, fly, boston, 838, arrive, denver, 1110,...</td>\n",
              "      <td>[want, fli, boston, 838, arriv, denver, 1110, ...</td>\n",
              "      <td>want fli boston 838 arriv denver 1110 morn</td>\n",
              "    </tr>\n",
              "    <tr>\n",
              "      <th>1</th>\n",
              "      <td>atis_flight</td>\n",
              "      <td>what flights are available from pittsburgh to...</td>\n",
              "      <td>what flights are available from pittsburgh to...</td>\n",
              "      <td>[what, flights, are, available, from, pittsbur...</td>\n",
              "      <td>[flights, available, pittsburgh, baltimore, th...</td>\n",
              "      <td>[flight, avail, pittsburgh, baltimor, thursday...</td>\n",
              "      <td>flight avail pittsburgh baltimor thursday morn</td>\n",
              "    </tr>\n",
              "    <tr>\n",
              "      <th>2</th>\n",
              "      <td>atis_flight_time</td>\n",
              "      <td>what is the arrival time in san francisco for...</td>\n",
              "      <td>what is the arrival time in san francisco for...</td>\n",
              "      <td>[what, is, the, arrival, time, in, san, franci...</td>\n",
              "      <td>[arrival, time, san, francisco, 755, flight, l...</td>\n",
              "      <td>[arriv, time, san, francisco, 755, flight, lea...</td>\n",
              "      <td>arriv time san francisco 755 flight leav washi...</td>\n",
              "    </tr>\n",
              "    <tr>\n",
              "      <th>3</th>\n",
              "      <td>atis_airfare</td>\n",
              "      <td>cheapest airfare from tacoma to orlando</td>\n",
              "      <td>cheapest airfare from tacoma to orlando</td>\n",
              "      <td>[cheapest, airfare, from, tacoma, to, orlando]</td>\n",
              "      <td>[cheapest, airfare, tacoma, orlando]</td>\n",
              "      <td>[cheapest, airfar, tacoma, orlando]</td>\n",
              "      <td>cheapest airfar tacoma orlando</td>\n",
              "    </tr>\n",
              "    <tr>\n",
              "      <th>4</th>\n",
              "      <td>atis_airfare</td>\n",
              "      <td>round trip fares from pittsburgh to philadelp...</td>\n",
              "      <td>round trip fares from pittsburgh to philadelp...</td>\n",
              "      <td>[round, trip, fares, from, pittsburgh, to, phi...</td>\n",
              "      <td>[round, trip, fares, pittsburgh, philadelphia,...</td>\n",
              "      <td>[round, trip, fare, pittsburgh, philadelphia, ...</td>\n",
              "      <td>round trip fare pittsburgh philadelphia 1000 d...</td>\n",
              "    </tr>\n",
              "  </tbody>\n",
              "</table>\n",
              "</div>"
            ],
            "text/plain": [
              "             target  ...                                         normalized\n",
              "0       atis_flight  ...         want fli boston 838 arriv denver 1110 morn\n",
              "1       atis_flight  ...     flight avail pittsburgh baltimor thursday morn\n",
              "2  atis_flight_time  ...  arriv time san francisco 755 flight leav washi...\n",
              "3      atis_airfare  ...                     cheapest airfar tacoma orlando\n",
              "4      atis_airfare  ...  round trip fare pittsburgh philadelphia 1000 d...\n",
              "\n",
              "[5 rows x 7 columns]"
            ]
          },
          "metadata": {
            "tags": []
          },
          "execution_count": 88
        }
      ]
    },
    {
      "cell_type": "code",
      "metadata": {
        "id": "8zE64pz-g3WA",
        "colab_type": "code",
        "colab": {}
      },
      "source": [
        "from tensorflow.keras.preprocessing.text import Tokenizer\n",
        "\n",
        "tokenizer= Tokenizer(num_words= 10000)\n",
        "tokenizer.fit_on_texts(train_data.normalized)\n",
        "\n",
        "tokenized_train= tokenizer.texts_to_sequences(train_data.normalized)\n",
        "tokenized_test= tokenizer.texts_to_sequences(test_data.normalized)"
      ],
      "execution_count": 0,
      "outputs": []
    },
    {
      "cell_type": "code",
      "metadata": {
        "id": "Om965jTRk5D1",
        "colab_type": "code",
        "colab": {
          "base_uri": "https://localhost:8080/",
          "height": 34
        },
        "outputId": "b168b21c-2162-4026-9766-ee0e3beaddb7"
      },
      "source": [
        "tokenizer.word_index.keys().__len__()\n"
      ],
      "execution_count": 90,
      "outputs": [
        {
          "output_type": "execute_result",
          "data": {
            "text/plain": [
              "674"
            ]
          },
          "metadata": {
            "tags": []
          },
          "execution_count": 90
        }
      ]
    },
    {
      "cell_type": "code",
      "metadata": {
        "id": "w_fpUqRFk764",
        "colab_type": "code",
        "colab": {}
      },
      "source": [
        "from tensorflow.keras.preprocessing.sequence import pad_sequences\n",
        "\n",
        "train_padded= pad_sequences(tokenized_train, maxlen= 30, padding= \"pre\")\n",
        "test_padded= pad_sequences(tokenized_test, maxlen= 30, padding= \"pre\")"
      ],
      "execution_count": 0,
      "outputs": []
    },
    {
      "cell_type": "code",
      "metadata": {
        "id": "zG0Y5cw4lFFJ",
        "colab_type": "code",
        "colab": {}
      },
      "source": [
        "#this function transform final processed text (columns padded) into 3D matrix (samples, steps, unique_words)\n",
        "#matrix contents one hot encoded words. Encoding was done for each step and based on unique words\n",
        "\n",
        "def transform_x(data, tokenizer):\n",
        "    output_shape= [data.shape[0],\n",
        "                  data.shape[1],\n",
        "                  tokenizer.word_index.keys().__len__()]\n",
        "    results= np.zeros(output_shape)\n",
        "    \n",
        "    for i in range(data.shape[0]):\n",
        "        for ii in range(data.shape[1]):\n",
        "            results[i, ii, data[i,ii]-1]= 1\n",
        "    return results\n",
        "\n",
        "xtr_transformed= transform_x(train_padded, tokenizer)\n",
        "xts_transformed= transform_x(test_padded, tokenizer)\n"
      ],
      "execution_count": 0,
      "outputs": []
    },
    {
      "cell_type": "code",
      "metadata": {
        "id": "OqqMd2JGqxuE",
        "colab_type": "code",
        "colab": {
          "base_uri": "https://localhost:8080/",
          "height": 34
        },
        "outputId": "676051f8-2b00-4e60-c82e-ae6879092359"
      },
      "source": [
        "xts_transformed.shape"
      ],
      "execution_count": 93,
      "outputs": [
        {
          "output_type": "execute_result",
          "data": {
            "text/plain": [
              "(1436, 30, 674)"
            ]
          },
          "metadata": {
            "tags": []
          },
          "execution_count": 93
        }
      ]
    },
    {
      "cell_type": "code",
      "metadata": {
        "id": "uP_nDaSxlWb2",
        "colab_type": "code",
        "colab": {}
      },
      "source": [
        "from tensorflow.keras.layers import Dense, LSTM, BatchNormalization, Dropout, Input\n",
        "from tensorflow.keras.optimizers import Adam\n",
        "from tensorflow.keras.losses import CategoricalCrossentropy as CC\n",
        "from tensorflow.keras.activations import relu, softmax\n",
        "from tensorflow.keras.initializers import he_uniform, glorot_uniform\n",
        "from tensorflow.keras.metrics import AUC\n",
        "from tensorflow.keras import Model\n",
        "from tensorflow.keras.regularizers import l2\n",
        "\n",
        "\n",
        "class LSTMModel(object):\n",
        "    \n",
        "    def build_model(self, input_dim, output_shape, steps, dropout_rate, kernel_regularizer, bias_regularizer):\n",
        "        input_layer= Input(shape= (steps, input_dim))\n",
        "        \n",
        "        #make lstm_layer\n",
        "        lstm= LSTM(units= steps)(input_layer)\n",
        "        dense_1= Dense(output_shape, kernel_initializer= he_uniform(),\n",
        "                       bias_initializer= \"zeros\", \n",
        "                       kernel_regularizer= l2(l= kernel_regularizer),\n",
        "                       bias_regularizer= l2(l= bias_regularizer))(lstm)\n",
        "        x= BatchNormalization()(dense_1)\n",
        "        x= relu(x)\n",
        "        x= Dropout(rate= dropout_rate)(x)\n",
        "        o= Dense(output_shape, kernel_initializer= glorot_uniform(),\n",
        "                 bias_initializer= \"zeros\", \n",
        "                 kernel_regularizer= l2(l= kernel_regularizer), \n",
        "                 bias_regularizer= l2(l= bias_regularizer))(dense_1)\n",
        "        o= BatchNormalization()(o)\n",
        "        output= softmax(o, axis= 1)\n",
        "        \n",
        "        loss= CC()\n",
        "        metrics= AUC()\n",
        "        optimizer= Adam()\n",
        "        self.model= Model(inputs= [input_layer], outputs= [output])\n",
        "        self.model.compile(optimizer= optimizer, loss= loss, metrics= [metrics])\n",
        "        \n",
        "        \n",
        "    def train(self, x, y, validation_split, epochs):\n",
        "        self.model.fit(x, y, validation_split= validation_split, epochs= epochs)\n",
        "        \n",
        "    def predict(self, x):\n",
        "        return self.model.predict(x)"
      ],
      "execution_count": 0,
      "outputs": []
    },
    {
      "cell_type": "code",
      "metadata": {
        "id": "i6vBiU5PlZQJ",
        "colab_type": "code",
        "colab": {}
      },
      "source": [
        "steps= xtr_transformed.shape[1]\n",
        "dim= xtr_transformed.shape[2]\n",
        "output_shape= ytr_encoded.shape[1]\n",
        "\n",
        "model= LSTMModel()\n",
        "model.build_model(input_dim= dim,\n",
        "                  output_shape= output_shape,\n",
        "                  steps= steps, \n",
        "                  dropout_rate= 0.5, \n",
        "                  bias_regularizer= 0.3, \n",
        "                  kernel_regularizer= 0.3)"
      ],
      "execution_count": 0,
      "outputs": []
    },
    {
      "cell_type": "code",
      "metadata": {
        "id": "JXDuzb87ls0J",
        "colab_type": "code",
        "colab": {
          "base_uri": "https://localhost:8080/",
          "height": 1000
        },
        "outputId": "923f9a52-6fe6-4786-f6e5-189b7e837035"
      },
      "source": [
        "model.train(xtr_transformed, ytr_encoded,\n",
        "           0.2, 60)"
      ],
      "execution_count": 96,
      "outputs": [
        {
          "output_type": "stream",
          "text": [
            "Train on 7000 samples, validate on 1750 samples\n",
            "Epoch 1/60\n",
            "7000/7000 [==============================] - 10s 1ms/sample - loss: 12.2737 - auc_3: 0.8092 - val_loss: 5.9325 - val_auc_3: 0.9907\n",
            "Epoch 2/60\n",
            "7000/7000 [==============================] - 9s 1ms/sample - loss: 3.5727 - auc_3: 0.9507 - val_loss: 1.8083 - val_auc_3: 0.9984\n",
            "Epoch 3/60\n",
            "7000/7000 [==============================] - 9s 1ms/sample - loss: 1.8411 - auc_3: 0.9749 - val_loss: 1.5156 - val_auc_3: 0.9869\n",
            "Epoch 4/60\n",
            "7000/7000 [==============================] - 9s 1ms/sample - loss: 1.3720 - auc_3: 0.9856 - val_loss: 1.1716 - val_auc_3: 0.9932\n",
            "Epoch 5/60\n",
            "7000/7000 [==============================] - 9s 1ms/sample - loss: 1.1265 - auc_3: 0.9900 - val_loss: 0.8199 - val_auc_3: 0.9953\n",
            "Epoch 6/60\n",
            "7000/7000 [==============================] - 9s 1ms/sample - loss: 0.9439 - auc_3: 0.9923 - val_loss: 0.8103 - val_auc_3: 0.9970\n",
            "Epoch 7/60\n",
            "7000/7000 [==============================] - 9s 1ms/sample - loss: 0.7984 - auc_3: 0.9945 - val_loss: 0.6559 - val_auc_3: 0.9968\n",
            "Epoch 8/60\n",
            "7000/7000 [==============================] - 9s 1ms/sample - loss: 0.6961 - auc_3: 0.9956 - val_loss: 0.5659 - val_auc_3: 0.9969\n",
            "Epoch 9/60\n",
            "7000/7000 [==============================] - 9s 1ms/sample - loss: 0.6157 - auc_3: 0.9961 - val_loss: 0.5848 - val_auc_3: 0.9977\n",
            "Epoch 10/60\n",
            "7000/7000 [==============================] - 9s 1ms/sample - loss: 0.5601 - auc_3: 0.9962 - val_loss: 0.5779 - val_auc_3: 0.9972\n",
            "Epoch 11/60\n",
            "7000/7000 [==============================] - 9s 1ms/sample - loss: 0.5064 - auc_3: 0.9969 - val_loss: 0.3940 - val_auc_3: 0.9991\n",
            "Epoch 12/60\n",
            "7000/7000 [==============================] - 9s 1ms/sample - loss: 0.4668 - auc_3: 0.9971 - val_loss: 0.4323 - val_auc_3: 0.9987\n",
            "Epoch 13/60\n",
            "7000/7000 [==============================] - 9s 1ms/sample - loss: 0.4292 - auc_3: 0.9975 - val_loss: 0.2764 - val_auc_3: 0.9992\n",
            "Epoch 14/60\n",
            "7000/7000 [==============================] - 9s 1ms/sample - loss: 0.3997 - auc_3: 0.9981 - val_loss: 0.2555 - val_auc_3: 0.9988\n",
            "Epoch 15/60\n",
            "7000/7000 [==============================] - 9s 1ms/sample - loss: 0.3760 - auc_3: 0.9977 - val_loss: 0.2298 - val_auc_3: 0.9991\n",
            "Epoch 16/60\n",
            "7000/7000 [==============================] - 9s 1ms/sample - loss: 0.3551 - auc_3: 0.9981 - val_loss: 0.2626 - val_auc_3: 0.9991\n",
            "Epoch 17/60\n",
            "7000/7000 [==============================] - 9s 1ms/sample - loss: 0.3275 - auc_3: 0.9986 - val_loss: 0.2250 - val_auc_3: 0.9991\n",
            "Epoch 18/60\n",
            "7000/7000 [==============================] - 9s 1ms/sample - loss: 0.3101 - auc_3: 0.9986 - val_loss: 0.2025 - val_auc_3: 0.9998\n",
            "Epoch 19/60\n",
            "7000/7000 [==============================] - 9s 1ms/sample - loss: 0.2966 - auc_3: 0.9986 - val_loss: 0.1810 - val_auc_3: 0.9995\n",
            "Epoch 20/60\n",
            "7000/7000 [==============================] - 9s 1ms/sample - loss: 0.2894 - auc_3: 0.9985 - val_loss: 0.1588 - val_auc_3: 0.9994\n",
            "Epoch 21/60\n",
            "7000/7000 [==============================] - 9s 1ms/sample - loss: 0.2724 - auc_3: 0.9988 - val_loss: 0.1441 - val_auc_3: 0.9994\n",
            "Epoch 22/60\n",
            "7000/7000 [==============================] - 9s 1ms/sample - loss: 0.2597 - auc_3: 0.9989 - val_loss: 0.1630 - val_auc_3: 0.9991\n",
            "Epoch 23/60\n",
            "7000/7000 [==============================] - 9s 1ms/sample - loss: 0.2496 - auc_3: 0.9990 - val_loss: 0.1670 - val_auc_3: 0.9996\n",
            "Epoch 24/60\n",
            "7000/7000 [==============================] - 9s 1ms/sample - loss: 0.2439 - auc_3: 0.9990 - val_loss: 0.1732 - val_auc_3: 0.9990\n",
            "Epoch 25/60\n",
            "7000/7000 [==============================] - 9s 1ms/sample - loss: 0.2372 - auc_3: 0.9990 - val_loss: 0.1463 - val_auc_3: 0.9997\n",
            "Epoch 26/60\n",
            "7000/7000 [==============================] - 9s 1ms/sample - loss: 0.2259 - auc_3: 0.9990 - val_loss: 0.1220 - val_auc_3: 0.9991\n",
            "Epoch 27/60\n",
            "7000/7000 [==============================] - 9s 1ms/sample - loss: 0.2200 - auc_3: 0.9990 - val_loss: 0.1500 - val_auc_3: 0.9991\n",
            "Epoch 28/60\n",
            "7000/7000 [==============================] - 9s 1ms/sample - loss: 0.2138 - auc_3: 0.9991 - val_loss: 0.1082 - val_auc_3: 0.9997\n",
            "Epoch 29/60\n",
            "7000/7000 [==============================] - 9s 1ms/sample - loss: 0.2043 - auc_3: 0.9989 - val_loss: 0.1076 - val_auc_3: 0.9994\n",
            "Epoch 30/60\n",
            "7000/7000 [==============================] - 9s 1ms/sample - loss: 0.1989 - auc_3: 0.9991 - val_loss: 0.1066 - val_auc_3: 0.9994\n",
            "Epoch 31/60\n",
            "7000/7000 [==============================] - 9s 1ms/sample - loss: 0.1922 - auc_3: 0.9992 - val_loss: 0.1089 - val_auc_3: 0.9994\n",
            "Epoch 32/60\n",
            "7000/7000 [==============================] - 9s 1ms/sample - loss: 0.1865 - auc_3: 0.9992 - val_loss: 0.1054 - val_auc_3: 0.9997\n",
            "Epoch 33/60\n",
            "7000/7000 [==============================] - 9s 1ms/sample - loss: 0.1821 - auc_3: 0.9991 - val_loss: 0.1072 - val_auc_3: 0.9994\n",
            "Epoch 34/60\n",
            "7000/7000 [==============================] - 10s 1ms/sample - loss: 0.1782 - auc_3: 0.9994 - val_loss: 0.0972 - val_auc_3: 0.9991\n",
            "Epoch 35/60\n",
            "7000/7000 [==============================] - 9s 1ms/sample - loss: 0.1742 - auc_3: 0.9994 - val_loss: 0.1068 - val_auc_3: 0.9994\n",
            "Epoch 36/60\n",
            "7000/7000 [==============================] - 9s 1ms/sample - loss: 0.1702 - auc_3: 0.9993 - val_loss: 0.0977 - val_auc_3: 0.9994\n",
            "Epoch 37/60\n",
            "7000/7000 [==============================] - 9s 1ms/sample - loss: 0.1691 - auc_3: 0.9993 - val_loss: 0.0942 - val_auc_3: 0.9994\n",
            "Epoch 38/60\n",
            "7000/7000 [==============================] - 9s 1ms/sample - loss: 0.1671 - auc_3: 0.9994 - val_loss: 0.0911 - val_auc_3: 0.9997\n",
            "Epoch 39/60\n",
            "7000/7000 [==============================] - 9s 1ms/sample - loss: 0.1593 - auc_3: 0.9993 - val_loss: 0.0926 - val_auc_3: 0.9997\n",
            "Epoch 40/60\n",
            "7000/7000 [==============================] - 9s 1ms/sample - loss: 0.1563 - auc_3: 0.9994 - val_loss: 0.0904 - val_auc_3: 0.9997\n",
            "Epoch 41/60\n",
            "7000/7000 [==============================] - 9s 1ms/sample - loss: 0.1739 - auc_3: 0.9992 - val_loss: 0.0933 - val_auc_3: 0.9997\n",
            "Epoch 42/60\n",
            "7000/7000 [==============================] - 9s 1ms/sample - loss: 0.1565 - auc_3: 0.9993 - val_loss: 0.0876 - val_auc_3: 0.9994\n",
            "Epoch 43/60\n",
            "7000/7000 [==============================] - 9s 1ms/sample - loss: 0.1483 - auc_3: 0.9994 - val_loss: 0.0797 - val_auc_3: 0.9997\n",
            "Epoch 44/60\n",
            "7000/7000 [==============================] - 9s 1ms/sample - loss: 0.1463 - auc_3: 0.9994 - val_loss: 0.0836 - val_auc_3: 0.9997\n",
            "Epoch 45/60\n",
            "7000/7000 [==============================] - 9s 1ms/sample - loss: 0.1470 - auc_3: 0.9993 - val_loss: 0.0787 - val_auc_3: 0.9994\n",
            "Epoch 46/60\n",
            "7000/7000 [==============================] - 9s 1ms/sample - loss: 0.1408 - auc_3: 0.9994 - val_loss: 0.0842 - val_auc_3: 1.0000\n",
            "Epoch 47/60\n",
            "7000/7000 [==============================] - 9s 1ms/sample - loss: 0.1408 - auc_3: 0.9994 - val_loss: 0.0765 - val_auc_3: 1.0000\n",
            "Epoch 48/60\n",
            "7000/7000 [==============================] - 9s 1ms/sample - loss: 0.1368 - auc_3: 0.9996 - val_loss: 0.0763 - val_auc_3: 0.9994\n",
            "Epoch 49/60\n",
            "7000/7000 [==============================] - 9s 1ms/sample - loss: 0.1342 - auc_3: 0.9995 - val_loss: 0.0785 - val_auc_3: 0.9997\n",
            "Epoch 50/60\n",
            "7000/7000 [==============================] - 10s 1ms/sample - loss: 0.1339 - auc_3: 0.9994 - val_loss: 0.0701 - val_auc_3: 1.0000\n",
            "Epoch 51/60\n",
            "7000/7000 [==============================] - 9s 1ms/sample - loss: 0.1287 - auc_3: 0.9995 - val_loss: 0.0745 - val_auc_3: 0.9997\n",
            "Epoch 52/60\n",
            "7000/7000 [==============================] - 9s 1ms/sample - loss: 0.1308 - auc_3: 0.9995 - val_loss: 0.0740 - val_auc_3: 1.0000\n",
            "Epoch 53/60\n",
            "7000/7000 [==============================] - 9s 1ms/sample - loss: 0.1458 - auc_3: 0.9995 - val_loss: 0.1000 - val_auc_3: 1.0000\n",
            "Epoch 54/60\n",
            "7000/7000 [==============================] - 9s 1ms/sample - loss: 0.1348 - auc_3: 0.9996 - val_loss: 0.0712 - val_auc_3: 1.0000\n",
            "Epoch 55/60\n",
            "7000/7000 [==============================] - 9s 1ms/sample - loss: 0.1256 - auc_3: 0.9995 - val_loss: 0.0700 - val_auc_3: 1.0000\n",
            "Epoch 56/60\n",
            "7000/7000 [==============================] - 9s 1ms/sample - loss: 0.1231 - auc_3: 0.9995 - val_loss: 0.0670 - val_auc_3: 1.0000\n",
            "Epoch 57/60\n",
            "7000/7000 [==============================] - 9s 1ms/sample - loss: 0.1235 - auc_3: 0.9995 - val_loss: 0.0646 - val_auc_3: 1.0000\n",
            "Epoch 58/60\n",
            "7000/7000 [==============================] - 9s 1ms/sample - loss: 0.1211 - auc_3: 0.9995 - val_loss: 0.0659 - val_auc_3: 1.0000\n",
            "Epoch 59/60\n",
            "7000/7000 [==============================] - 9s 1ms/sample - loss: 0.1236 - auc_3: 0.9996 - val_loss: 0.0700 - val_auc_3: 1.0000\n",
            "Epoch 60/60\n",
            "7000/7000 [==============================] - 9s 1ms/sample - loss: 0.1160 - auc_3: 0.9995 - val_loss: 0.0637 - val_auc_3: 1.0000\n"
          ],
          "name": "stdout"
        }
      ]
    },
    {
      "cell_type": "code",
      "metadata": {
        "id": "cUr9V85Vl2U4",
        "colab_type": "code",
        "colab": {
          "base_uri": "https://localhost:8080/",
          "height": 566
        },
        "outputId": "628c0afb-70cd-4a02-a256-631062d60f02"
      },
      "source": [
        "from sklearn.metrics import classification_report\n",
        "\n",
        "prediction= y_encoder.inverse_transform(model.predict(xtr_transformed))\n",
        "print(classification_report(train_data.target, prediction))"
      ],
      "execution_count": 100,
      "outputs": [
        {
          "output_type": "stream",
          "text": [
            "                                          precision    recall  f1-score   support\n",
            "\n",
            "                       atis_abbreviation       0.95      0.99      0.97       147\n",
            "                           atis_aircraft       0.89      1.00      0.94        81\n",
            "atis_aircraft#atis_flight#atis_flight_no       0.00      0.00      0.00         1\n",
            "                            atis_airfare       1.00      1.00      1.00       423\n",
            "           atis_airfare#atis_flight_time       0.00      0.00      0.00         1\n",
            "                            atis_airline       0.97      1.00      0.98       157\n",
            "             atis_airline#atis_flight_no       0.00      0.00      0.00         2\n",
            "                            atis_airport       0.00      0.00      0.00        20\n",
            "                           atis_capacity       0.40      0.25      0.31        16\n",
            "                           atis_cheapest       0.00      0.00      0.00         2\n",
            "                               atis_city       0.00      0.00      0.00        19\n",
            "                           atis_distance       0.26      1.00      0.41        20\n",
            "                             atis_flight       1.00      1.00      1.00      7332\n",
            "                atis_flight#atis_airfare       0.89      0.76      0.82        21\n",
            "                          atis_flight_no       0.00      0.00      0.00        12\n",
            "                        atis_flight_time       1.00      0.96      0.98       108\n",
            "                        atis_ground_fare       1.00      0.06      0.11        18\n",
            "                     atis_ground_service       0.98      1.00      0.99       255\n",
            "    atis_ground_service#atis_ground_fare       0.00      0.00      0.00         1\n",
            "                               atis_meal       0.00      0.00      0.00         6\n",
            "                           atis_quantity       0.99      1.00      1.00       102\n",
            "                        atis_restriction       0.00      0.00      0.00         6\n",
            "\n",
            "                                accuracy                           0.99      8750\n",
            "                               macro avg       0.47      0.46      0.43      8750\n",
            "                            weighted avg       0.98      0.99      0.98      8750\n",
            "\n"
          ],
          "name": "stdout"
        },
        {
          "output_type": "stream",
          "text": [
            "/usr/local/lib/python3.6/dist-packages/sklearn/metrics/_classification.py:1272: UndefinedMetricWarning: Precision and F-score are ill-defined and being set to 0.0 in labels with no predicted samples. Use `zero_division` parameter to control this behavior.\n",
            "  _warn_prf(average, modifier, msg_start, len(result))\n"
          ],
          "name": "stderr"
        }
      ]
    },
    {
      "cell_type": "code",
      "metadata": {
        "id": "77vZg_xWrWdI",
        "colab_type": "code",
        "colab": {
          "base_uri": "https://localhost:8080/",
          "height": 273
        },
        "outputId": "a8ccf754-afd0-497d-84e4-ca6a5b989de6"
      },
      "source": [
        "###test\n",
        "prediction_test= y_encoder.inverse_transform(model.predict(xts_transformed))\n",
        "print(classification_report(test_data.target, prediction_test))"
      ],
      "execution_count": 101,
      "outputs": [
        {
          "output_type": "stream",
          "text": [
            "                     precision    recall  f1-score   support\n",
            "\n",
            "  atis_abbreviation       1.00      0.82      0.90        33\n",
            "      atis_aircraft       0.80      0.89      0.84         9\n",
            "       atis_airfare       0.92      1.00      0.96        48\n",
            "       atis_airline       0.95      0.95      0.95        38\n",
            "        atis_flight       0.99      0.99      0.99      1264\n",
            "   atis_flight_time       1.00      1.00      1.00         2\n",
            "atis_ground_service       1.00      1.00      1.00        36\n",
            "      atis_quantity       0.40      1.00      0.57         6\n",
            "\n",
            "           accuracy                           0.98      1436\n",
            "          macro avg       0.88      0.96      0.90      1436\n",
            "       weighted avg       0.99      0.98      0.98      1436\n",
            "\n"
          ],
          "name": "stdout"
        }
      ]
    },
    {
      "cell_type": "code",
      "metadata": {
        "id": "Ou9n4kXvp8VK",
        "colab_type": "code",
        "colab": {}
      },
      "source": [
        "###############Conclusion\n",
        "####This is an imbalanced dataset with some of the classes having small number of samples. \n",
        "##The resulting poor classification accuracy can be seen in the results."
      ],
      "execution_count": 0,
      "outputs": []
    }
  ]
}